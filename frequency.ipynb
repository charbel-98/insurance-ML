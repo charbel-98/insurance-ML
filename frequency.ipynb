{
 "cells": [
  {
   "cell_type": "code",
   "execution_count": 40,
   "metadata": {},
   "outputs": [],
   "source": [
    "import pandas as pd\n",
    "import numpy as np\n",
    "import matplotlib.pyplot as plt\n",
    "import seaborn as sns\n",
    "import random\n",
    "pd.set_option('display.max_columns', None)"
   ]
  },
  {
   "cell_type": "code",
   "execution_count": 41,
   "metadata": {},
   "outputs": [
    {
     "name": "stdout",
     "output_type": "stream",
     "text": [
      "(235925, 8)\n",
      "Index(['POLICY_NO', 'DATE OF \\r\\nACCIDENT', 'AGE', 'REG', 'DRV_DLI_AGE',\n",
      "       'BODY', 'MAKE', 'VEH_SEATS'],\n",
      "      dtype='object')\n",
      "POLICY_NO                    0\n",
      "DATE OF \\r\\nACCIDENT    176664\n",
      "AGE                          0\n",
      "REG                          0\n",
      "DRV_DLI_AGE                  0\n",
      "BODY                         0\n",
      "MAKE                         0\n",
      "VEH_SEATS                    0\n",
      "dtype: int64\n"
     ]
    },
    {
     "data": {
      "text/html": [
       "<div>\n",
       "<style scoped>\n",
       "    .dataframe tbody tr th:only-of-type {\n",
       "        vertical-align: middle;\n",
       "    }\n",
       "\n",
       "    .dataframe tbody tr th {\n",
       "        vertical-align: top;\n",
       "    }\n",
       "\n",
       "    .dataframe thead th {\n",
       "        text-align: right;\n",
       "    }\n",
       "</style>\n",
       "<table border=\"1\" class=\"dataframe\">\n",
       "  <thead>\n",
       "    <tr style=\"text-align: right;\">\n",
       "      <th></th>\n",
       "      <th>POLICY_NO</th>\n",
       "      <th>DATE OF \\r\\nACCIDENT</th>\n",
       "      <th>AGE</th>\n",
       "      <th>REG</th>\n",
       "      <th>DRV_DLI_AGE</th>\n",
       "      <th>BODY</th>\n",
       "      <th>MAKE</th>\n",
       "      <th>VEH_SEATS</th>\n",
       "    </tr>\n",
       "  </thead>\n",
       "  <tbody>\n",
       "    <tr>\n",
       "      <th>0</th>\n",
       "      <td>102048936</td>\n",
       "      <td>2015-03-11</td>\n",
       "      <td>26.000000</td>\n",
       "      <td>DUBAI</td>\n",
       "      <td>11.580413</td>\n",
       "      <td>SALOON</td>\n",
       "      <td>TOYOTA</td>\n",
       "      <td>4.0</td>\n",
       "    </tr>\n",
       "    <tr>\n",
       "      <th>1</th>\n",
       "      <td>102048936</td>\n",
       "      <td>2015-06-15</td>\n",
       "      <td>31.000000</td>\n",
       "      <td>DUBAI</td>\n",
       "      <td>11.436246</td>\n",
       "      <td>SALOON</td>\n",
       "      <td>TOYOTA</td>\n",
       "      <td>4.0</td>\n",
       "    </tr>\n",
       "    <tr>\n",
       "      <th>2</th>\n",
       "      <td>102048936</td>\n",
       "      <td>2015-03-11</td>\n",
       "      <td>26.000000</td>\n",
       "      <td>DUBAI</td>\n",
       "      <td>11.580413</td>\n",
       "      <td>SALOON</td>\n",
       "      <td>TOYOTA</td>\n",
       "      <td>4.0</td>\n",
       "    </tr>\n",
       "    <tr>\n",
       "      <th>3</th>\n",
       "      <td>102048936</td>\n",
       "      <td>2015-03-11</td>\n",
       "      <td>26.000000</td>\n",
       "      <td>DUBAI</td>\n",
       "      <td>11.580413</td>\n",
       "      <td>SALOON</td>\n",
       "      <td>TOYOTA</td>\n",
       "      <td>4.0</td>\n",
       "    </tr>\n",
       "    <tr>\n",
       "      <th>4</th>\n",
       "      <td>101509203</td>\n",
       "      <td>NaN</td>\n",
       "      <td>38.383348</td>\n",
       "      <td>DUBAI</td>\n",
       "      <td>13.802850</td>\n",
       "      <td>PICK UP</td>\n",
       "      <td>MITSUBISHI</td>\n",
       "      <td>2.0</td>\n",
       "    </tr>\n",
       "  </tbody>\n",
       "</table>\n",
       "</div>"
      ],
      "text/plain": [
       "   POLICY_NO DATE OF \\r\\nACCIDENT        AGE    REG  DRV_DLI_AGE     BODY  \\\n",
       "0  102048936           2015-03-11  26.000000  DUBAI    11.580413   SALOON   \n",
       "1  102048936           2015-06-15  31.000000  DUBAI    11.436246   SALOON   \n",
       "2  102048936           2015-03-11  26.000000  DUBAI    11.580413   SALOON   \n",
       "3  102048936           2015-03-11  26.000000  DUBAI    11.580413   SALOON   \n",
       "4  101509203                  NaN  38.383348  DUBAI    13.802850  PICK UP   \n",
       "\n",
       "         MAKE  VEH_SEATS  \n",
       "0      TOYOTA        4.0  \n",
       "1      TOYOTA        4.0  \n",
       "2      TOYOTA        4.0  \n",
       "3      TOYOTA        4.0  \n",
       "4  MITSUBISHI        2.0  "
      ]
     },
     "execution_count": 41,
     "metadata": {},
     "output_type": "execute_result"
    }
   ],
   "source": [
    "frequency = pd.read_csv('frequency_dataset.csv', encoding='utf-8')\n",
    "print(frequency.shape)\n",
    "print(frequency.columns)\n",
    "print(frequency.isna().sum())\n",
    "frequency.head()"
   ]
  },
  {
   "cell_type": "code",
   "execution_count": 52,
   "metadata": {},
   "outputs": [
    {
     "data": {
      "text/plain": [
       "count    227514.000000\n",
       "mean          0.347526\n",
       "std           0.791807\n",
       "min           0.000000\n",
       "25%           0.000000\n",
       "50%           0.000000\n",
       "75%           0.000000\n",
       "max          12.000000\n",
       "Name: freq, dtype: float64"
      ]
     },
     "execution_count": 52,
     "metadata": {},
     "output_type": "execute_result"
    }
   ],
   "source": [
    "\n",
    "frequency.drop_duplicates(\n",
    "    subset=['POLICY_NO', 'DATE OF \\r\\nACCIDENT'], inplace=True)\n",
    "frequency['freq'] = frequency.groupby(\n",
    "    'POLICY_NO')['DATE OF \\r\\nACCIDENT'].transform('count')\n",
    "\n",
    "    frequency"
   ]
  }
 ],
 "metadata": {
  "kernelspec": {
   "display_name": "Python 3",
   "language": "python",
   "name": "python3"
  },
  "language_info": {
   "codemirror_mode": {
    "name": "ipython",
    "version": 3
   },
   "file_extension": ".py",
   "mimetype": "text/x-python",
   "name": "python",
   "nbconvert_exporter": "python",
   "pygments_lexer": "ipython3",
   "version": "3.11.5"
  }
 },
 "nbformat": 4,
 "nbformat_minor": 2
}
